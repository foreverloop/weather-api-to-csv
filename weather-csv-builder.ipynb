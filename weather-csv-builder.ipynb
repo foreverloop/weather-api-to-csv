{
 "cells": [
  {
   "cell_type": "code",
   "execution_count": 35,
   "metadata": {},
   "outputs": [
    {
     "name": "stdout",
     "output_type": "stream",
     "text": [
      "Today's data is gathered 2019-06-16 12:32:34.240716\n"
     ]
    }
   ],
   "source": [
    "#the csv will be built up over a number of days, appending the existing file\n",
    "import requests,json,csv,ast,datetime\n",
    "import pandas as pd\n",
    "\n",
    "with open(\"endpoint.csv\",\"r\") as f:\n",
    "    reader = csv.reader(f,delimiter=',')\n",
    "    for row in reader:\n",
    "        endpoint = row[0]\n",
    "        \n",
    "five_day_forecast = json.loads(requests.get(endpoint).text)\n",
    "\n",
    "#header (decode headers on met office api site): pandas_frame_no,$,D,F,G,H,Pp,S,T,U,V,W,forecast_date\n",
    "for forecast in five_day_forecast[\"SiteRep\"][\"DV\"][\"Location\"][\"Period\"]:\n",
    "    df = pd.DataFrame(forecast[\"Rep\"])\n",
    "    df2 = pd.DataFrame(forecast)\n",
    "    final_df = pd.concat([df,df2[\"value\"]],axis=1)\n",
    "    final_df.to_csv(\"forca3hr.csv\",mode='a',header=False)\n",
    "\n",
    "#log to check to avoid duplicating data etc\n",
    "time_gathered = \"Today's data is gathered {0}\".format(datetime.datetime.now())\n",
    "with open(\"collection_log_wea.csv\",'a') as f:\n",
    "    f.write(\"\\n\" + time_gathered)\n",
    "\n",
    "print time_gathered"
   ]
  },
  {
   "cell_type": "code",
   "execution_count": null,
   "metadata": {},
   "outputs": [],
   "source": []
  }
 ],
 "metadata": {
  "kernelspec": {
   "display_name": "Python 3",
   "language": "python",
   "name": "python3"
  },
  "language_info": {
   "codemirror_mode": {
    "name": "ipython",
    "version": 3
   },
   "file_extension": ".py",
   "mimetype": "text/x-python",
   "name": "python",
   "nbconvert_exporter": "python",
   "pygments_lexer": "ipython3",
   "version": "3.7.3"
  }
 },
 "nbformat": 4,
 "nbformat_minor": 2
}
